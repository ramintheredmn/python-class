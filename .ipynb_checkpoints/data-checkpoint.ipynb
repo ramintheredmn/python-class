{
 "cells": [
  {
   "cell_type": "markdown",
   "id": "a0c62990-8a03-450d-b663-2a20550a7294",
   "metadata": {},
   "source": [
    "# Numpy the foundation of scientific python"
   ]
  },
  {
   "cell_type": "code",
   "execution_count": 2,
   "id": "c1ba02fd-46a3-4318-80af-84c0f21b49a0",
   "metadata": {},
   "outputs": [],
   "source": [
    "import numpy as np\n",
    "import pandas as pd\n",
    "%matplotlib inline\n",
    "import matplotlib.pyplot as plt\n",
    "# import matplotlib.style\n",
    "import seaborn as sns\n",
    "import random"
   ]
  },
  {
   "cell_type": "markdown",
   "id": "2e386d29-046b-44c1-9fa5-19d641329bab",
   "metadata": {},
   "source": [
    "## The problem with python list and for loop"
   ]
  },
  {
   "cell_type": "code",
   "execution_count": 56,
   "id": "600f3655-4dc7-48de-8fce-29c3727ec3d5",
   "metadata": {},
   "outputs": [],
   "source": [
    "# create a variable called old_Xs with type List[int] with initValue of 10000 random numbers between 0 and 1000\n",
    "old_Xs = [random.randint(0, 1000) for i in range(0, 10000)]\n",
    "# create a variable called old_Ys with type List[int] with initValue of 10000 random numbers between 0 and 1000\n",
    "old_Ys = [random.randint(0, 2000) for i in range(0, 10000)]"
   ]
  },
  {
   "cell_type": "markdown",
   "id": "d893d729-6356-4c62-bde4-35d78ed98012",
   "metadata": {},
   "source": [
    "find sum of all the values in each list </br>\n",
    "find mean ... </br>\n",
    "sum the elements of the old_Xs with ols_Ys </br>\n",
    "try multiplying</br>\n",
    "name the multiplying function as \"legacy_mul\"\n"
   ]
  },
  {
   "cell_type": "code",
   "execution_count": 57,
   "id": "0af7e78c-2777-4918-96dc-b2d821e9eb99",
   "metadata": {
    "tags": []
   },
   "outputs": [],
   "source": [
    "# Here ..."
   ]
  },
  {
   "cell_type": "markdown",
   "id": "a30a18aa-ccc7-4d6d-92a6-74c2f29658f4",
   "metadata": {},
   "source": [
    "## Numpy version"
   ]
  },
  {
   "cell_type": "code",
   "execution_count": 58,
   "id": "34ddeae0-db5c-46b4-ad28-76c617f17d7d",
   "metadata": {},
   "outputs": [],
   "source": [
    "# convert the old variables which were normal python List[int] to numpy 1-D array\n",
    "new_Xs = np.array(old_Xs)\n",
    "new_Ys = np.array(old_Ys)"
   ]
  },
  {
   "cell_type": "markdown",
   "id": "42b3250f-8c89-423c-8925-86fcb10a170e",
   "metadata": {},
   "source": [
    "Sum, mean, element wise sum and multiply with numpy ... "
   ]
  },
  {
   "cell_type": "code",
   "execution_count": 59,
   "id": "c6a9e7ac-fe9a-4187-a1dd-fef632007069",
   "metadata": {
    "tags": []
   },
   "outputs": [],
   "source": [
    "# Here"
   ]
  },
  {
   "cell_type": "markdown",
   "id": "56b97d81-ff26-4577-a166-1023071e4e63",
   "metadata": {},
   "source": [
    "### jupyter magics !\n",
    "use %%time to time the processes"
   ]
  },
  {
   "cell_type": "code",
   "execution_count": 60,
   "id": "0c466925-47a1-48fd-821b-6e3ca3831636",
   "metadata": {
    "tags": []
   },
   "outputs": [
    {
     "name": "stdout",
     "output_type": "stream",
     "text": [
      "CPU times: user 40 µs, sys: 21 µs, total: 61 µs\n",
      "Wall time: 65.3 µs\n"
     ]
    }
   ],
   "source": [
    "%%time\n",
    "# multiply arrays element wise\n",
    "mul_array = new_Xs * new_Ys"
   ]
  },
  {
   "cell_type": "code",
   "execution_count": 61,
   "id": "4ffe8554-ba46-4b2c-998f-9ff056a52039",
   "metadata": {
    "tags": []
   },
   "outputs": [
    {
     "ename": "NameError",
     "evalue": "name 'legacy_mul' is not defined",
     "output_type": "error",
     "traceback": [
      "\u001b[0;31m---------------------------------------------------------------------------\u001b[0m",
      "\u001b[0;31mNameError\u001b[0m                                 Traceback (most recent call last)",
      "File \u001b[0;32m<timed exec>:1\u001b[0m\n",
      "\u001b[0;31mNameError\u001b[0m: name 'legacy_mul' is not defined"
     ]
    }
   ],
   "source": [
    "%%time\n",
    "mull_array = legacy_mul(old_Xs, old_Ys)"
   ]
  },
  {
   "cell_type": "code",
   "execution_count": 70,
   "id": "d3c6bd8b-1ba0-40f6-8aba-651a230ae5e8",
   "metadata": {
    "tags": []
   },
   "outputs": [
    {
     "data": {
      "text/plain": [
       "(10000,)"
      ]
     },
     "execution_count": 70,
     "metadata": {},
     "output_type": "execute_result"
    }
   ],
   "source": [
    "new_Xs.dtype\n",
    "new_Xs.itemsize\n",
    "new_Xs.ndim\n",
    "new_Xs.shape\n",
    "# new_Xs.nbytes"
   ]
  },
  {
   "cell_type": "markdown",
   "id": "68327db3-0478-49e7-9c93-181eb8b156f3",
   "metadata": {},
   "source": [
    "Array indexing"
   ]
  },
  {
   "cell_type": "code",
   "execution_count": 64,
   "id": "f10c1fad-f48d-412a-9302-1b39294134a8",
   "metadata": {
    "tags": []
   },
   "outputs": [
    {
     "data": {
      "text/plain": [
       "40"
      ]
     },
     "execution_count": 64,
     "metadata": {},
     "output_type": "execute_result"
    }
   ],
   "source": [
    "new_Xs[0]\n",
    "# new_Xs[0] = 10 # be aware of type !\n"
   ]
  },
  {
   "cell_type": "markdown",
   "id": "cdd46e85-8660-4fe4-a17d-466949ab1ea3",
   "metadata": {},
   "source": [
    "Multidimential Array"
   ]
  },
  {
   "cell_type": "code",
   "execution_count": 66,
   "id": "738d66bc-37bd-4ea6-97a5-f8216a9d2600",
   "metadata": {
    "tags": []
   },
   "outputs": [
    {
     "data": {
      "text/plain": [
       "array([[ 1,  2,  3,  4,  5],\n",
       "       [ 6,  7,  8,  9, 10]])"
      ]
     },
     "execution_count": 66,
     "metadata": {},
     "output_type": "execute_result"
    }
   ],
   "source": [
    "multi_D = ...\n",
    "multi_D"
   ]
  },
  {
   "cell_type": "code",
   "execution_count": 69,
   "id": "955a7f7b-b29f-4aca-8278-d326f16367c8",
   "metadata": {
    "tags": []
   },
   "outputs": [
    {
     "data": {
      "text/plain": [
       "(2, 5)"
      ]
     },
     "execution_count": 69,
     "metadata": {},
     "output_type": "execute_result"
    }
   ],
   "source": [
    "multi_D.size\n",
    "multi_D.ndim\n",
    "multi_D.shape"
   ]
  },
  {
   "cell_type": "code",
   "execution_count": 72,
   "id": "ab4aa731-3337-48ea-8ca2-b6858f6a5de9",
   "metadata": {
    "tags": []
   },
   "outputs": [
    {
     "data": {
      "text/plain": [
       "array([1, 2, 3, 4, 5])"
      ]
     },
     "execution_count": 72,
     "metadata": {},
     "output_type": "execute_result"
    }
   ],
   "source": [
    "multi_D[0]"
   ]
  },
  {
   "cell_type": "markdown",
   "id": "d8dddb40-530d-442e-9a61-7dbb19bc1a1c",
   "metadata": {},
   "source": [
    "Slicing"
   ]
  },
  {
   "cell_type": "code",
   "execution_count": null,
   "id": "a585fc5b-78b8-46f5-844d-eba4617a14da",
   "metadata": {},
   "outputs": [],
   "source": [
    "# array[start:end:step]\n",
    "# negative indices\n",
    "# grab first 3 elements\n",
    "# grab last 2 elements\n",
    "# every other element"
   ]
  },
  {
   "cell_type": "code",
   "execution_count": 102,
   "id": "fcf3a30d-d90b-414a-b5e2-b3646660396d",
   "metadata": {
    "tags": []
   },
   "outputs": [
    {
     "data": {
      "text/plain": [
       "array([[225, 196, 169, 144, 121, 100],\n",
       "       [ 81,  64,  49,  36,  25,  16],\n",
       "       [  9,   4,   1,   0,   1,   4],\n",
       "       [  9,  16,  25,  36,  49,  64],\n",
       "       [ 81, 100, 121, 144, 169, 196]])"
      ]
     },
     "execution_count": 102,
     "metadata": {},
     "output_type": "execute_result"
    }
   ],
   "source": [
    "multi_D = np.reshape(np.arange(-15, 15), (5, 6)) ** 2\n",
    "multi_D"
   ]
  },
  {
   "cell_type": "code",
   "execution_count": 103,
   "id": "35506946-db09-4cb8-860e-85d28dff3028",
   "metadata": {
    "tags": []
   },
   "outputs": [
    {
     "data": {
      "text/plain": [
       "array([100,  16,   4,  64, 196])"
      ]
     },
     "execution_count": 103,
     "metadata": {},
     "output_type": "execute_result"
    }
   ],
   "source": [
    "# try with the multi_D\n",
    "\n",
    "multi_D[:, -1]"
   ]
  },
  {
   "cell_type": "code",
   "execution_count": 113,
   "id": "bc9dbfc8-817e-4178-be52-13c209bee473",
   "metadata": {
    "tags": []
   },
   "outputs": [],
   "source": [
    "# min\n",
    "# mix \n",
    "# where"
   ]
  },
  {
   "cell_type": "markdown",
   "id": "fe28e57f-7d68-4fd2-aebd-a53d28ec6cb8",
   "metadata": {},
   "source": [
    "# Matplotlib is all you need for visualization"
   ]
  },
  {
   "cell_type": "code",
   "execution_count": 9,
   "id": "d0b60148-69c7-4177-a1a1-ba1ac658cdf0",
   "metadata": {
    "tags": []
   },
   "outputs": [],
   "source": [
    "plot_x = np.linspace(0, 2*np.pi, 50)\n",
    "plot_y1 = np.sin(plot_x)\n",
    "plot_y2 = np.cos(plot_x)\n",
    "plot_y3 = np.sin(plot_x) / np.cos(plot_x)"
   ]
  },
  {
   "cell_type": "code",
   "execution_count": 18,
   "id": "340f2013-5d2a-4d70-9819-33260d719e1d",
   "metadata": {
    "tags": []
   },
   "outputs": [
    {
     "data": {
      "text/plain": [
       "[<matplotlib.lines.Line2D at 0x73b7f193d150>]"
      ]
     },
     "execution_count": 18,
     "metadata": {},
     "output_type": "execute_result"
    },
    {
     "data": {
      "image/png": "[encoded data removed]",
      "text/plain": [
       "<Figure size 640x480 with 1 Axes>"
      ]
     },
     "metadata": {},
     "output_type": "display_data"
    }
   ],
   "source": [
    "plt.plot(plot_x, plot_y1)\n",
    "#plt.show()\n",
    "#plt.plot(plot_x, plot_y2, 'r-o', mfc='w')\n",
    "#plt.plot(plot_x, plot_y3, 'b-+')\n",
    "#plt.savefig() #shift-tab to see doc"
   ]
  },
  {
   "cell_type": "markdown",
   "id": "df38681c-7873-403a-8160-2b6693ac0f1d",
   "metadata": {},
   "source": [
    "scatter plot"
   ]
  },
  {
   "cell_type": "code",
   "execution_count": 30,
   "id": "22f6ecdd-b3be-4332-83d2-37a378fdfa60",
   "metadata": {
    "tags": []
   },
   "outputs": [],
   "source": [
    "scatter_x = np.linspace(0, 10, 50)\n",
    "scatter_noise = np.random.rand(50) * 5\n",
    "scatter_y = scatter_x + scatter_noise\n",
    "scatter_s = np.random.rand(50) * 100\n",
    "scatter_c = np.random.rand(50)"
   ]
  },
  {
   "cell_type": "code",
   "execution_count": 32,
   "id": "92e3927c-d7b8-42d9-aebf-5108860945bb",
   "metadata": {
    "tags": []
   },
   "outputs": [
    {
     "data": {
      "text/plain": [
       "<matplotlib.colorbar.Colorbar at 0x73b7f1519240>"
      ]
     },
     "execution_count": 32,
     "metadata": {},
     "output_type": "execute_result"
    },
    {
     "data": {
      "image/png": "[encoded data removed]",
      "text/plain": [
       "<Figure size 640x480 with 2 Axes>"
      ]
     },
     "metadata": {},
     "output_type": "display_data"
    }
   ],
   "source": [
    "plt.scatter(scatter_x, scatter_y, s=scatter_s, c=scatter_c)\n",
    "plt.colorbar()"
   ]
  },
  {
   "cell_type": "markdown",
   "id": "09e38dfa-1f0f-4645-8990-60e34a7791b5",
   "metadata": {},
   "source": [
    "Image plot (Corralation plot)"
   ]
  },
  {
   "cell_type": "code",
   "execution_count": 34,
   "id": "8230bcd3-a53f-4445-a69d-2db73db9a21b",
   "metadata": {
    "tags": []
   },
   "outputs": [
    {
     "data": {
      "text/plain": [
       "array([[ 1.        ,  0.86060385, -0.07443088, -0.01236226],\n",
       "       [ 0.86060385,  1.        , -0.08474014,  0.07078361],\n",
       "       [-0.07443088, -0.08474014,  1.        ,  0.09998549],\n",
       "       [-0.01236226,  0.07078361,  0.09998549,  1.        ]])"
      ]
     },
     "execution_count": 34,
     "metadata": {},
     "output_type": "execute_result"
    }
   ],
   "source": [
    "corrmatrix = np.corrcoef([scatter_x, scatter_y, scatter_s, scatter_c])\n",
    "corrmatrix"
   ]
  },
  {
   "cell_type": "code",
   "execution_count": 36,
   "id": "a4e32523-2497-4768-8b8d-d2b1de6299e3",
   "metadata": {
    "tags": []
   },
   "outputs": [
    {
     "data": {
      "text/plain": [
       "<matplotlib.colorbar.Colorbar at 0x73b7f0968160>"
      ]
     },
     "execution_count": 36,
     "metadata": {},
     "output_type": "execute_result"
    },
    {
     "data": {
      "image/png": "[encoded data removed]",
      "text/plain": [
       "<Figure size 640x480 with 2 Axes>"
      ]
     },
     "metadata": {},
     "output_type": "display_data"
    }
   ],
   "source": [
    "plt.imshow(corrmatrix, cmap='GnBu')\n",
    "plt.colorbar()"
   ]
  },
  {
   "cell_type": "markdown",
   "id": "cec2718f-e2c2-43e3-8d31-92fbe6ff8cb9",
   "metadata": {},
   "source": [
    "Histogram"
   ]
  },
  {
   "cell_type": "code",
   "execution_count": 47,
   "id": "9b8b4896-c5d7-43c1-8a46-450ca27e0ad3",
   "metadata": {
    "tags": []
   },
   "outputs": [],
   "source": [
    "normal_data = np.random.normal(20, 0.4, 1000)"
   ]
  },
  {
   "cell_type": "code",
   "execution_count": 50,
   "id": "ac8b7659-de1d-4703-b1ea-6bd62502d486",
   "metadata": {
    "tags": []
   },
   "outputs": [
    {
     "data": {
      "text/plain": [
       "(array([  6.,  13.,  37.,  98., 191., 257., 210., 117.,  55.,  16.]),\n",
       " array([18.66131864, 18.89933537, 19.13735211, 19.37536884, 19.61338558,\n",
       "        19.85140231, 20.08941905, 20.32743578, 20.56545252, 20.80346925,\n",
       "        21.04148599]),\n",
       " <BarContainer object of 10 artists>)"
      ]
     },
     "execution_count": 50,
     "metadata": {},
     "output_type": "execute_result"
    },
    {
     "data": {
      "image/png": "[encoded data removed]",
      "text/plain": [
       "<Figure size 640x480 with 1 Axes>"
      ]
     },
     "metadata": {},
     "output_type": "display_data"
    }
   ],
   "source": [
    "plt.hist(normal_data)\n",
    "# cumalitive ?"
   ]
  },
  {
   "cell_type": "markdown",
   "id": "c674f6c9-6e64-4809-9c3b-2233bed77566",
   "metadata": {},
   "source": [
    "Advanced single line plot"
   ]
  },
  {
   "cell_type": "code",
   "execution_count": 11,
   "id": "5b45a3c9-42a5-437a-85ce-4ad2ae1e1cb0",
   "metadata": {
    "tags": []
   },
   "outputs": [
    {
     "data": {
      "text/html": [
       "<div>\n",
       "<style scoped>\n",
       "    .dataframe tbody tr th:only-of-type {\n",
       "        vertical-align: middle;\n",
       "    }\n",
       "\n",
       "    .dataframe tbody tr th {\n",
       "        vertical-align: top;\n",
       "    }\n",
       "\n",
       "    .dataframe thead th {\n",
       "        text-align: right;\n",
       "    }\n",
       "</style>\n",
       "<table border=\"1\" class=\"dataframe\">\n",
       "  <thead>\n",
       "    <tr style=\"text-align: right;\">\n",
       "      <th></th>\n",
       "      <th>x</th>\n",
       "      <th>y</th>\n",
       "      <th>x2</th>\n",
       "      <th>y2</th>\n",
       "      <th>x3</th>\n",
       "      <th>y3</th>\n",
       "      <th>x4</th>\n",
       "      <th>y4</th>\n",
       "      <th>x5</th>\n",
       "      <th>y5</th>\n",
       "      <th>x6</th>\n",
       "      <th>y6</th>\n",
       "    </tr>\n",
       "  </thead>\n",
       "  <tbody>\n",
       "    <tr>\n",
       "      <th>0</th>\n",
       "      <td>3.6</td>\n",
       "      <td>15.09</td>\n",
       "      <td>35.7</td>\n",
       "      <td>6.83</td>\n",
       "      <td>214.3</td>\n",
       "      <td>8.41</td>\n",
       "      <td>NaN</td>\n",
       "      <td>NaN</td>\n",
       "      <td>NaN</td>\n",
       "      <td>NaN</td>\n",
       "      <td>NaN</td>\n",
       "      <td>NaN</td>\n",
       "    </tr>\n",
       "    <tr>\n",
       "      <th>1</th>\n",
       "      <td>7.1</td>\n",
       "      <td>7.63</td>\n",
       "      <td>71.4</td>\n",
       "      <td>3.49</td>\n",
       "      <td>428.6</td>\n",
       "      <td>4.21</td>\n",
       "      <td>NaN</td>\n",
       "      <td>NaN</td>\n",
       "      <td>NaN</td>\n",
       "      <td>NaN</td>\n",
       "      <td>NaN</td>\n",
       "      <td>NaN</td>\n",
       "    </tr>\n",
       "    <tr>\n",
       "      <th>2</th>\n",
       "      <td>10.7</td>\n",
       "      <td>5.11</td>\n",
       "      <td>107.1</td>\n",
       "      <td>2.35</td>\n",
       "      <td>642.9</td>\n",
       "      <td>2.81</td>\n",
       "      <td>NaN</td>\n",
       "      <td>NaN</td>\n",
       "      <td>NaN</td>\n",
       "      <td>NaN</td>\n",
       "      <td>NaN</td>\n",
       "      <td>NaN</td>\n",
       "    </tr>\n",
       "    <tr>\n",
       "      <th>3</th>\n",
       "      <td>14.3</td>\n",
       "      <td>3.84</td>\n",
       "      <td>142.9</td>\n",
       "      <td>1.78</td>\n",
       "      <td>857.1</td>\n",
       "      <td>2.11</td>\n",
       "      <td>NaN</td>\n",
       "      <td>NaN</td>\n",
       "      <td>NaN</td>\n",
       "      <td>NaN</td>\n",
       "      <td>NaN</td>\n",
       "      <td>NaN</td>\n",
       "    </tr>\n",
       "    <tr>\n",
       "      <th>4</th>\n",
       "      <td>17.9</td>\n",
       "      <td>3.08</td>\n",
       "      <td>178.6</td>\n",
       "      <td>1.43</td>\n",
       "      <td>1071.4</td>\n",
       "      <td>1.69</td>\n",
       "      <td>NaN</td>\n",
       "      <td>NaN</td>\n",
       "      <td>NaN</td>\n",
       "      <td>NaN</td>\n",
       "      <td>NaN</td>\n",
       "      <td>NaN</td>\n",
       "    </tr>\n",
       "  </tbody>\n",
       "</table>\n",
       "</div>"
      ],
      "text/plain": [
       "      x      y     x2    y2      x3    y3  x4  y4  x5  y5  x6  y6\n",
       "0   3.6  15.09   35.7  6.83   214.3  8.41 NaN NaN NaN NaN NaN NaN\n",
       "1   7.1   7.63   71.4  3.49   428.6  4.21 NaN NaN NaN NaN NaN NaN\n",
       "2  10.7   5.11  107.1  2.35   642.9  2.81 NaN NaN NaN NaN NaN NaN\n",
       "3  14.3   3.84  142.9  1.78   857.1  2.11 NaN NaN NaN NaN NaN NaN\n",
       "4  17.9   3.08  178.6  1.43  1071.4  1.69 NaN NaN NaN NaN NaN NaN"
      ]
     },
     "execution_count": 11,
     "metadata": {},
     "output_type": "execute_result"
    }
   ],
   "source": [
    "# Dont worry about pandas parts, we will cover this lib to\n",
    "df_test_adv_single = pd.read_csv('./generic_single_plot.csv')\n",
    "x = df_test_adv_single['x'].dropna()\n",
    "y = df_test_adv_single['y'].dropna()\n",
    "x_2 = df_test_adv_single['x2'].dropna()\n",
    "y_2 = df_test_adv_single['y2'].dropna()\n",
    "x_3 = df_test_adv_single['x3'].dropna()\n",
    "y_3 = df_test_adv_single['y3'].dropna()\n",
    "colors = sns.color_palette(\"rocket\", 3)\n",
    "df_test_adv_single.head()"
   ]
  },
  {
   "cell_type": "code",
   "execution_count": 12,
   "id": "4e0a4d34-4bbf-4103-bc6b-be46386f2de5",
   "metadata": {
    "tags": []
   },
   "outputs": [
    {
     "data": {
      "text/html": [
       "<svg  width=\"165\" height=\"55\"><rect x=\"0\" y=\"0\" width=\"55\" height=\"55\" style=\"fill:#611f53;stroke-width:2;stroke:rgb(255,255,255)\"/><rect x=\"55\" y=\"0\" width=\"55\" height=\"55\" style=\"fill:#cb1b4f;stroke-width:2;stroke:rgb(255,255,255)\"/><rect x=\"110\" y=\"0\" width=\"55\" height=\"55\" style=\"fill:#f58860;stroke-width:2;stroke:rgb(255,255,255)\"/></svg>"
      ],
      "text/plain": [
       "[(0.38092887, 0.12061482, 0.32506528),\n",
       " (0.7965014, 0.10506637, 0.31063031),\n",
       " (0.95922872, 0.53307513, 0.3748895)]"
      ]
     },
     "execution_count": 12,
     "metadata": {},
     "output_type": "execute_result"
    }
   ],
   "source": [
    "colors"
   ]
  },
  {
   "cell_type": "code",
   "execution_count": 13,
   "id": "c763b0ef-e983-4bef-85c9-e27ce32606ae",
   "metadata": {
    "tags": []
   },
   "outputs": [
    {
     "data": {
      "image/png": "[encoded data removed]",
      "text/plain": [
       "<Figure size 500x500 with 1 Axes>"
      ]
     },
     "metadata": {},
     "output_type": "display_data"
    }
   ],
   "source": [
    "plt.figure(figsize=(5,5))\n",
    "plt.plot(x, y)\n",
    "# plt.semilogx(x, y, linestyle='-', marker='^', label='ba', mfc='w',color=colors[0])\n",
    "# plt.semilogx(x_2, y_2, linestyle='-', marker='s', label='ca', mfc='w',color=colors[1])\n",
    "# plt.semilogx(x_3, y_3, linestyle='-', marker='o', label='al', mfc='w',color=colors[2])\n",
    "# plt.xlim([1, 1e4])\n",
    "# plt.ylim([-0.5, 16])\n",
    "# plt.minorticks_on()\n",
    "# plt.tick_params(direction='in', right=True, top=True)\n",
    "# plt.tick_params(labelsize=14)\n",
    "# plt.tick_params(labelbottom=True, labeltop=False, labelright=False)\n",
    "# yticks=np.arange(0,16.1,4)\n",
    "# plt.tick_params(direction='in', which='minor', length=5, bottom=True)\n",
    "# plt.tick_params(direction='in', which='major', length=10, bottom=True)\n",
    "# plt.yticks(yticks)\n",
    "# plt.xlabel('Paricke radio in $ \\mu.m$', fontsize=14)\n",
    "# plt.ylabel('Percent cont', fontsize=14)\n",
    "# plt.legend(fontsize=14)\n",
    "# plt.style.use('ggplot')\n",
    "plt.show()"
   ]
  },
  {
   "cell_type": "markdown",
   "id": "b234a76a-e7a9-4be7-80ff-173cd4bdcc88",
   "metadata": {},
   "source": [
    "Multiple plots"
   ]
  },
  {
   "cell_type": "code",
   "execution_count": 51,
   "id": "5099604d-9a5c-41e0-993c-0bd27cdc0049",
   "metadata": {
    "tags": []
   },
   "outputs": [
    {
     "data": {
      "text/plain": [
       "(<Figure size 640x480 with 4 Axes>,\n",
       " array([[<Axes: >, <Axes: >],\n",
       "        [<Axes: >, <Axes: >]], dtype=object))"
      ]
     },
     "execution_count": 51,
     "metadata": {},
     "output_type": "execute_result"
    },
    {
     "data": {
      "image/png": "[encoded data removed]",
      "text/plain": [
       "<Figure size 640x480 with 4 Axes>"
      ]
     },
     "metadata": {},
     "output_type": "display_data"
    }
   ],
   "source": [
    "plt.subplots(2, 2)\n"
   ]
  },
  {
   "cell_type": "markdown",
   "id": "51921810-b719-4f43-bd7a-ce4f8341055e",
   "metadata": {},
   "source": [
    "Complex plot"
   ]
  },
  {
   "cell_type": "code",
   "execution_count": 114,
   "id": "0db258d1-5b28-4455-9533-ea90d42bd5ef",
   "metadata": {
    "tags": []
   },
   "outputs": [],
   "source": [
    "from scipy import stats"
   ]
  },
  {
   "cell_type": "code",
   "execution_count": 115,
   "id": "80874122-3099-4140-bebc-9d5181406280",
   "metadata": {
    "tags": []
   },
   "outputs": [],
   "source": [
    "linear_fit = stats.linregress(scatter_x, scatter_y)"
   ]
  },
  {
   "cell_type": "code",
   "execution_count": 119,
   "id": "71b21373-996d-46b6-be05-eef42f116471",
   "metadata": {
    "tags": []
   },
   "outputs": [
    {
     "data": {
      "text/plain": [
       "<matplotlib.colorbar.Colorbar at 0x73b7f1b68c10>"
      ]
     },
     "execution_count": 119,
     "metadata": {},
     "output_type": "execute_result"
    },
    {
     "data": {
      "image/png": "[encoded data removed]",
      "text/plain": [
       "<Figure size 640x480 with 2 Axes>"
      ]
     },
     "metadata": {},
     "output_type": "display_data"
    }
   ],
   "source": [
    "plt.scatter(scatter_x, scatter_y, s=scatter_s, c=scatter_c)\n",
    "plt.plot(scatter_x, linear_fit.intercept + linear_fit.slope * scatter_x, c='r', label=f\"predicted line, R^2: {linear_fit.rvalue**2:.2f}\")\n",
    "plt.legend()\n",
    "plt.colorbar()"
   ]
  },
  {
   "cell_type": "markdown",
   "id": "c7ec459c-59b5-45e9-9c32-9ee0085ea16c",
   "metadata": {},
   "source": [
    "## test yourself !\n",
    "\n",
    "look up for a function in numpy package that loads txt files, then load and plot files in the md_* folders"
   ]
  },
  {
   "cell_type": "markdown",
   "id": "5903c7f8-f166-4450-9d68-1ff6a23b23b3",
   "metadata": {},
   "source": [
    "# ProDy, a packege for drug discovery"
   ]
  },
  {
   "cell_type": "markdown",
   "id": "da683328-cd06-4763-9211-711e28073ec3",
   "metadata": {},
   "source": [
    "first lets find a target "
   ]
  },
  {
   "cell_type": "code",
   "execution_count": 130,
   "id": "40fefa9c-fc09-403f-991a-9930b475a75c",
   "metadata": {
    "tags": []
   },
   "outputs": [],
   "source": [
    "# chembl api\n",
    "import chembl_webresource_client.new_client as nc\n",
    "from chembletouni import chemble_to_uni\n",
    "from raminpdb import get_all_pdb_entries, get_pdb_with_best_resolution"
   ]
  },
  {
   "cell_type": "code",
   "execution_count": 123,
   "id": "ddc0e5cc-fc60-4245-a26b-e032134d175d",
   "metadata": {
    "tags": []
   },
   "outputs": [],
   "source": [
    "tr = nc.new_client.target"
   ]
  },
  {
   "cell_type": "code",
   "execution_count": 124,
   "id": "cdb1b840-0cce-4857-a556-db97c4debcb0",
   "metadata": {
    "tags": []
   },
   "outputs": [],
   "source": [
    "query = tr.search('jak').only('target_chembl_id', 'organism', 'pref_name')"
   ]
  },
  {
   "cell_type": "code",
   "execution_count": 127,
   "id": "50e53002-28bc-4e73-a0e7-7651569844b4",
   "metadata": {
    "tags": []
   },
   "outputs": [],
   "source": [
    "# convert the dict to panadas dataframe"
   ]
  },
  {
   "cell_type": "code",
   "execution_count": 129,
   "id": "30c4266b-f5f9-4bb5-8ea6-311a45f98a40",
   "metadata": {
    "tags": []
   },
   "outputs": [
    {
     "data": {
      "text/html": [
       "<div>\n",
       "<style scoped>\n",
       "    .dataframe tbody tr th:only-of-type {\n",
       "        vertical-align: middle;\n",
       "    }\n",
       "\n",
       "    .dataframe tbody tr th {\n",
       "        vertical-align: top;\n",
       "    }\n",
       "\n",
       "    .dataframe thead th {\n",
       "        text-align: right;\n",
       "    }\n",
       "</style>\n",
       "<table border=\"1\" class=\"dataframe\">\n",
       "  <thead>\n",
       "    <tr style=\"text-align: right;\">\n",
       "      <th></th>\n",
       "      <th>organism</th>\n",
       "      <th>pref_name</th>\n",
       "      <th>target_chembl_id</th>\n",
       "    </tr>\n",
       "  </thead>\n",
       "  <tbody>\n",
       "    <tr>\n",
       "      <th>0</th>\n",
       "      <td>Homo sapiens</td>\n",
       "      <td>Janus Kinase (JAK)</td>\n",
       "      <td>CHEMBL2363062</td>\n",
       "    </tr>\n",
       "    <tr>\n",
       "      <th>1</th>\n",
       "      <td>Homo sapiens</td>\n",
       "      <td>JAK2/JAK3</td>\n",
       "      <td>CHEMBL4802035</td>\n",
       "    </tr>\n",
       "    <tr>\n",
       "      <th>2</th>\n",
       "      <td>Homo sapiens</td>\n",
       "      <td>Tyrosine-protein kinase JAK3</td>\n",
       "      <td>CHEMBL2148</td>\n",
       "    </tr>\n",
       "    <tr>\n",
       "      <th>3</th>\n",
       "      <td>Homo sapiens</td>\n",
       "      <td>JAK3/JAK1</td>\n",
       "      <td>CHEMBL3038491</td>\n",
       "    </tr>\n",
       "    <tr>\n",
       "      <th>4</th>\n",
       "      <td>Mus musculus</td>\n",
       "      <td>Tyrosine-protein kinase JAK1/JAK2</td>\n",
       "      <td>CHEMBL3885649</td>\n",
       "    </tr>\n",
       "    <tr>\n",
       "      <th>5</th>\n",
       "      <td>Mus musculus</td>\n",
       "      <td>Tyrosine-protein kinase JAK1/JAK3</td>\n",
       "      <td>CHEMBL3885650</td>\n",
       "    </tr>\n",
       "    <tr>\n",
       "      <th>6</th>\n",
       "      <td>Homo sapiens</td>\n",
       "      <td>JAK2/JAK1</td>\n",
       "      <td>CHEMBL3038492</td>\n",
       "    </tr>\n",
       "    <tr>\n",
       "      <th>7</th>\n",
       "      <td>Homo sapiens</td>\n",
       "      <td>Tyrosine-protein kinase JAK1</td>\n",
       "      <td>CHEMBL2835</td>\n",
       "    </tr>\n",
       "    <tr>\n",
       "      <th>8</th>\n",
       "      <td>Mus musculus</td>\n",
       "      <td>Tyrosine-protein kinase JAK1</td>\n",
       "      <td>CHEMBL2968</td>\n",
       "    </tr>\n",
       "    <tr>\n",
       "      <th>9</th>\n",
       "      <td>Homo sapiens</td>\n",
       "      <td>Tyrosine-protein kinase JAK2</td>\n",
       "      <td>CHEMBL2971</td>\n",
       "    </tr>\n",
       "    <tr>\n",
       "      <th>10</th>\n",
       "      <td>Mus musculus</td>\n",
       "      <td>Tyrosine-protein kinase JAK3</td>\n",
       "      <td>CHEMBL5250</td>\n",
       "    </tr>\n",
       "    <tr>\n",
       "      <th>11</th>\n",
       "      <td>Rattus norvegicus</td>\n",
       "      <td>Tyrosine-protein kinase JAK2</td>\n",
       "      <td>CHEMBL1075225</td>\n",
       "    </tr>\n",
       "    <tr>\n",
       "      <th>12</th>\n",
       "      <td>Mus musculus</td>\n",
       "      <td>Tyrosine-protein kinase JAK2</td>\n",
       "      <td>CHEMBL1649049</td>\n",
       "    </tr>\n",
       "    <tr>\n",
       "      <th>13</th>\n",
       "      <td>Homo sapiens</td>\n",
       "      <td>JAK1/JAK2/TYK2</td>\n",
       "      <td>CHEMBL3301390</td>\n",
       "    </tr>\n",
       "    <tr>\n",
       "      <th>14</th>\n",
       "      <td>Mus musculus</td>\n",
       "      <td>TYK2/JAK1/JAK2</td>\n",
       "      <td>CHEMBL3885642</td>\n",
       "    </tr>\n",
       "    <tr>\n",
       "      <th>15</th>\n",
       "      <td>Rattus norvegicus</td>\n",
       "      <td>Tyrosine-protein kinase JAK3</td>\n",
       "      <td>CHEMBL4295857</td>\n",
       "    </tr>\n",
       "    <tr>\n",
       "      <th>16</th>\n",
       "      <td>Homo sapiens</td>\n",
       "      <td>Cereblon/Tyrosine-protein kinase JAK2</td>\n",
       "      <td>CHEMBL4742263</td>\n",
       "    </tr>\n",
       "    <tr>\n",
       "      <th>17</th>\n",
       "      <td>Homo sapiens</td>\n",
       "      <td>JAK2/TYK2</td>\n",
       "      <td>CHEMBL3301392</td>\n",
       "    </tr>\n",
       "    <tr>\n",
       "      <th>18</th>\n",
       "      <td>Mus musculus</td>\n",
       "      <td>JAK1/TYK2</td>\n",
       "      <td>CHEMBL4523618</td>\n",
       "    </tr>\n",
       "    <tr>\n",
       "      <th>19</th>\n",
       "      <td>Homo sapiens</td>\n",
       "      <td>Cereblon/JAK1</td>\n",
       "      <td>CHEMBL4742275</td>\n",
       "    </tr>\n",
       "    <tr>\n",
       "      <th>20</th>\n",
       "      <td>Homo sapiens</td>\n",
       "      <td>JAK1/TYK2</td>\n",
       "      <td>CHEMBL3301391</td>\n",
       "    </tr>\n",
       "    <tr>\n",
       "      <th>21</th>\n",
       "      <td>Homo sapiens</td>\n",
       "      <td>JAK1/STAT1</td>\n",
       "      <td>CHEMBL5291972</td>\n",
       "    </tr>\n",
       "    <tr>\n",
       "      <th>22</th>\n",
       "      <td>Homo sapiens</td>\n",
       "      <td>Tyrosine-protein kinase TYK2</td>\n",
       "      <td>CHEMBL3553</td>\n",
       "    </tr>\n",
       "    <tr>\n",
       "      <th>23</th>\n",
       "      <td>Homo sapiens</td>\n",
       "      <td>Protein arginine N-methyltransferase 5</td>\n",
       "      <td>CHEMBL1795116</td>\n",
       "    </tr>\n",
       "    <tr>\n",
       "      <th>24</th>\n",
       "      <td>Mus musculus</td>\n",
       "      <td>Non-receptor tyrosine-protein kinase TYK2</td>\n",
       "      <td>CHEMBL2321619</td>\n",
       "    </tr>\n",
       "    <tr>\n",
       "      <th>25</th>\n",
       "      <td>Homo sapiens</td>\n",
       "      <td>E3 ubiquitin-protein ligase XIAP/JAK2</td>\n",
       "      <td>CHEMBL4630750</td>\n",
       "    </tr>\n",
       "    <tr>\n",
       "      <th>26</th>\n",
       "      <td>Homo sapiens</td>\n",
       "      <td>E3 ubiquitin-protein ligase XIAP/JAK1</td>\n",
       "      <td>CHEMBL4630751</td>\n",
       "    </tr>\n",
       "    <tr>\n",
       "      <th>27</th>\n",
       "      <td>Homo sapiens</td>\n",
       "      <td>VHL/Protein arginine N-methyltransferase 5</td>\n",
       "      <td>CHEMBL4748215</td>\n",
       "    </tr>\n",
       "    <tr>\n",
       "      <th>28</th>\n",
       "      <td>Homo sapiens</td>\n",
       "      <td>PRMT5/MEP50 complex</td>\n",
       "      <td>CHEMBL3137261</td>\n",
       "    </tr>\n",
       "  </tbody>\n",
       "</table>\n",
       "</div>"
      ],
      "text/plain": [
       "             organism                                   pref_name  \\\n",
       "0        Homo sapiens                          Janus Kinase (JAK)   \n",
       "1        Homo sapiens                                   JAK2/JAK3   \n",
       "2        Homo sapiens                Tyrosine-protein kinase JAK3   \n",
       "3        Homo sapiens                                   JAK3/JAK1   \n",
       "4        Mus musculus           Tyrosine-protein kinase JAK1/JAK2   \n",
       "5        Mus musculus           Tyrosine-protein kinase JAK1/JAK3   \n",
       "6        Homo sapiens                                   JAK2/JAK1   \n",
       "7        Homo sapiens                Tyrosine-protein kinase JAK1   \n",
       "8        Mus musculus                Tyrosine-protein kinase JAK1   \n",
       "9        Homo sapiens                Tyrosine-protein kinase JAK2   \n",
       "10       Mus musculus                Tyrosine-protein kinase JAK3   \n",
       "11  Rattus norvegicus                Tyrosine-protein kinase JAK2   \n",
       "12       Mus musculus                Tyrosine-protein kinase JAK2   \n",
       "13       Homo sapiens                              JAK1/JAK2/TYK2   \n",
       "14       Mus musculus                              TYK2/JAK1/JAK2   \n",
       "15  Rattus norvegicus                Tyrosine-protein kinase JAK3   \n",
       "16       Homo sapiens       Cereblon/Tyrosine-protein kinase JAK2   \n",
       "17       Homo sapiens                                   JAK2/TYK2   \n",
       "18       Mus musculus                                   JAK1/TYK2   \n",
       "19       Homo sapiens                               Cereblon/JAK1   \n",
       "20       Homo sapiens                                   JAK1/TYK2   \n",
       "21       Homo sapiens                                  JAK1/STAT1   \n",
       "22       Homo sapiens                Tyrosine-protein kinase TYK2   \n",
       "23       Homo sapiens      Protein arginine N-methyltransferase 5   \n",
       "24       Mus musculus   Non-receptor tyrosine-protein kinase TYK2   \n",
       "25       Homo sapiens       E3 ubiquitin-protein ligase XIAP/JAK2   \n",
       "26       Homo sapiens       E3 ubiquitin-protein ligase XIAP/JAK1   \n",
       "27       Homo sapiens  VHL/Protein arginine N-methyltransferase 5   \n",
       "28       Homo sapiens                         PRMT5/MEP50 complex   \n",
       "\n",
       "   target_chembl_id  \n",
       "0     CHEMBL2363062  \n",
       "1     CHEMBL4802035  \n",
       "2        CHEMBL2148  \n",
       "3     CHEMBL3038491  \n",
       "4     CHEMBL3885649  \n",
       "5     CHEMBL3885650  \n",
       "6     CHEMBL3038492  \n",
       "7        CHEMBL2835  \n",
       "8        CHEMBL2968  \n",
       "9        CHEMBL2971  \n",
       "10       CHEMBL5250  \n",
       "11    CHEMBL1075225  \n",
       "12    CHEMBL1649049  \n",
       "13    CHEMBL3301390  \n",
       "14    CHEMBL3885642  \n",
       "15    CHEMBL4295857  \n",
       "16    CHEMBL4742263  \n",
       "17    CHEMBL3301392  \n",
       "18    CHEMBL4523618  \n",
       "19    CHEMBL4742275  \n",
       "20    CHEMBL3301391  \n",
       "21    CHEMBL5291972  \n",
       "22       CHEMBL3553  \n",
       "23    CHEMBL1795116  \n",
       "24    CHEMBL2321619  \n",
       "25    CHEMBL4630750  \n",
       "26    CHEMBL4630751  \n",
       "27    CHEMBL4748215  \n",
       "28    CHEMBL3137261  "
      ]
     },
     "execution_count": 129,
     "metadata": {},
     "output_type": "execute_result"
    }
   ],
   "source": [
    "query_df"
   ]
  },
  {
   "cell_type": "code",
   "execution_count": 131,
   "id": "0239ceaa-d1a1-41ae-bfbf-8c1c4cb68e9a",
   "metadata": {
    "tags": []
   },
   "outputs": [],
   "source": [
    "uniprotid = chemble_to_uni('CHEMBL2148')"
   ]
  },
  {
   "cell_type": "code",
   "execution_count": 132,
   "id": "a5f9c436-b178-4227-9349-08f8a010b27f",
   "metadata": {
    "tags": []
   },
   "outputs": [
    {
     "data": {
      "text/plain": [
       "'P52333'"
      ]
     },
     "execution_count": 132,
     "metadata": {},
     "output_type": "execute_result"
    }
   ],
   "source": [
    "uniprotid"
   ]
  },
  {
   "cell_type": "code",
   "execution_count": 133,
   "id": "ae4454db-9b09-42f0-ada8-cec55faf6862",
   "metadata": {
    "tags": []
   },
   "outputs": [
    {
     "data": {
      "text/plain": [
       "('3LXL', 319, 1.74, 'D=973-988.')"
      ]
     },
     "execution_count": 133,
     "metadata": {},
     "output_type": "execute_result"
    }
   ],
   "source": [
    "pdb_data = get_pdb_with_best_resolution(uniprotid)\n",
    "pdb_data"
   ]
  },
  {
   "cell_type": "code",
   "execution_count": 134,
   "id": "9f4ca7df-7868-43bd-b0a1-0d6a7fde2d95",
   "metadata": {
    "tags": []
   },
   "outputs": [],
   "source": [
    "# fetch the pdb with prody\n",
    "# isolate the ligand and receptor of 1 chain\n",
    "# calculate the gridbox"
   ]
  },
  {
   "cell_type": "code",
   "execution_count": null,
   "id": "d3ba59b3-3c16-4053-a4d9-9434e60edb97",
   "metadata": {},
   "outputs": [],
   "source": []
  }
 ],
 "metadata": {
  "kernelspec": {
   "display_name": "Python 3 (ipykernel)",
   "language": "python",
   "name": "python3"
  },
  "language_info": {
   "codemirror_mode": {
    "name": "ipython",
    "version": 3
   },
   "file_extension": ".py",
   "mimetype": "text/x-python",
   "name": "python",
   "nbconvert_exporter": "python",
   "pygments_lexer": "ipython3",
   "version": "3.10.12"
  }
 },
 "nbformat": 4,
 "nbformat_minor": 5
}
