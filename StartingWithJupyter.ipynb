{
 "cells": [
  {
   "cell_type": "markdown",
   "id": "cfdb8a1c-82e6-480c-b147-18934d0629d6",
   "metadata": {},
   "source": [
    "# This is a markdown cell\n"
   ]
  },
  {
   "cell_type": "code",
   "execution_count": 1,
   "id": "2a1b0139-ac54-4bb1-93b9-19df250683ce",
   "metadata": {},
   "outputs": [
    {
     "name": "stdout",
     "output_type": "stream",
     "text": [
      "this is a code cell\n"
     ]
    }
   ],
   "source": [
    "print(\"this is a code cell\")"
   ]
  },
  {
   "cell_type": "markdown",
   "id": "cb93bf06-bc63-41c5-bb21-22957e34f8f4",
   "metadata": {},
   "source": [
    "|Shift + Enter -> runs the cell and switches to the next cell </br>\n",
    "|Ctrl + Enter -> runs the cell and stays in that cell </br>\n",
    "|m -> swithces the cell mode to Markdown </br>\n",
    "|a -> creates the cell above the current cell </br>\n",
    "|b -> creates a cell below the current cell </br>\n",
    "|x -> cuts the cell </br>\n",
    "|v -> pastes the cell </br>\n"
   ]
  },
  {
   "cell_type": "code",
   "execution_count": null,
   "id": "1b2a6089-a2ea-4d5e-812a-355957840029",
   "metadata": {},
   "outputs": [],
   "source": []
  }
 ],
 "metadata": {
  "kernelspec": {
   "display_name": "Python 3",
   "language": "python",
   "name": "python3"
  },
  "language_info": {
   "codemirror_mode": {
    "name": "ipython",
    "version": 3
   },
   "file_extension": ".py",
   "mimetype": "text/x-python",
   "name": "python",
   "nbconvert_exporter": "python",
   "pygments_lexer": "ipython3",
   "version": "3.11.5"
  }
 },
 "nbformat": 4,
 "nbformat_minor": 5
}
